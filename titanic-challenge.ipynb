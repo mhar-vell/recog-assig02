{
 "cells": [
  {
   "cell_type": "markdown",
   "id": "88566487",
   "metadata": {},
   "source": [
    "titanic_model.py"
   ]
  },
  {
   "cell_type": "code",
   "execution_count": null,
   "id": "b7e71181",
   "metadata": {},
   "outputs": [],
   "source": [
    "import pandas as pd\n",
    "import numpy as np\n",
    "from sklearn.model_selection import cross_val_score\n",
    "from sklearn.ensemble import RandomForestClassifier\n",
    "from sklearn.linear_model import LogisticRegression"
   ]
  },
  {
   "cell_type": "code",
   "execution_count": null,
   "id": "0df8e1fb",
   "metadata": {},
   "outputs": [],
   "source": [
    "# Load data\n",
    "train = pd.read_csv(\"train.csv\")\n",
    "test = pd.read_csv(\"test.csv\")"
   ]
  },
  {
   "cell_type": "code",
   "execution_count": null,
   "id": "ec5ed2e9",
   "metadata": {},
   "outputs": [],
   "source": [
    "# Combine for preprocessing\n",
    "data = pd.concat([train, test], sort=False)"
   ]
  },
  {
   "cell_type": "markdown",
   "id": "6e266c14",
   "metadata": {},
   "source": [
    "=== Data Cleaning ==="
   ]
  },
  {
   "cell_type": "code",
   "execution_count": null,
   "id": "b195fe8a",
   "metadata": {},
   "outputs": [],
   "source": [
    "# Fill missing Age with median\n",
    "# data[\"Age\"].fillna(data[\"Age\"].median(), inplace=True)\n",
    "data[\"Age\"] = data[\"Age\"].fillna(data[\"Age\"].median())"
   ]
  },
  {
   "cell_type": "code",
   "execution_count": null,
   "id": "539a9b43",
   "metadata": {},
   "outputs": [],
   "source": [
    "# Fill missing Embarked with mode\n",
    "# data[\"Embarked\"].fillna(data[\"Embarked\"].mode()[0], inplace=True)\n",
    "data[\"Embarked\"] = data[\"Embarked\"].fillna(data[\"Embarked\"].mode()[0])"
   ]
  },
  {
   "cell_type": "code",
   "execution_count": null,
   "id": "e7ccbcbf",
   "metadata": {},
   "outputs": [],
   "source": [
    "# Fill missing Fare with median\n",
    "# data[\"Fare\"].fillna(data[\"Fare\"].median(), inplace=True)\n",
    "data[\"Fare\"] = data[\"Fare\"].fillna(data[\"Fare\"].median())"
   ]
  },
  {
   "cell_type": "code",
   "execution_count": null,
   "id": "148a6848",
   "metadata": {},
   "outputs": [],
   "source": [
    "# Drop Cabin due to too many missing values\n",
    "data.drop(\"Cabin\", axis=1, inplace=True)"
   ]
  },
  {
   "cell_type": "markdown",
   "id": "1017d5ab",
   "metadata": {},
   "source": [
    "=== Feature Engineering ==="
   ]
  },
  {
   "cell_type": "code",
   "execution_count": null,
   "id": "df862022",
   "metadata": {},
   "outputs": [],
   "source": [
    "# Encode Sex\n",
    "data[\"Sex\"] = data[\"Sex\"].map({\"male\": 0, \"female\": 1})"
   ]
  },
  {
   "cell_type": "code",
   "execution_count": null,
   "id": "4a55c9ad",
   "metadata": {
    "lines_to_next_cell": 2
   },
   "outputs": [],
   "source": [
    "# Encode Embarked\n",
    "# data[\"Embarked\"] = data[\"Embarked\"].map({\"S\": 0, \"C\": 1, \"Q\": 2})\n",
    "data[\"Embarked\"] = data[\"Embarked\"].fillna(data[\"Embarked\"].mode()[0])\n",
    "data[\"Embarked\"] = data[\"Embarked\"].map({\"S\": 0, \"C\": 1, \"Q\": 2})"
   ]
  },
  {
   "cell_type": "code",
   "execution_count": null,
   "id": "a0a19709",
   "metadata": {},
   "outputs": [],
   "source": [
    "# Family size and is alone\n",
    "data[\"FamilySize\"] = data[\"SibSp\"] + data[\"Parch\"] + 1\n",
    "data[\"IsAlone\"] = (data[\"FamilySize\"] == 1).astype(int)"
   ]
  },
  {
   "cell_type": "code",
   "execution_count": null,
   "id": "97e05a5f",
   "metadata": {},
   "outputs": [],
   "source": [
    "# Extract Title from Name\n",
    "# data[\"Title\"] = data[\"Name\"].str.extract(\" ([A-Za-z]+)\\.\", expand=False)\n",
    "data[\"Title\"] = data[\"Name\"].str.extract(r\" ([A-Za-z]+)\\.\", expand=False)\n",
    "title_mapping = {\n",
    "    \"Mr\": \"Mr\", \"Miss\": \"Miss\", \"Mrs\": \"Mrs\", \"Master\": \"Master\",\n",
    "    \"Dr\": \"Rare\", \"Rev\": \"Rare\", \"Col\": \"Rare\", \"Major\": \"Rare\",\n",
    "    \"Mlle\": \"Miss\", \"Ms\": \"Miss\", \"Mme\": \"Mrs\", \"Countess\": \"Rare\",\n",
    "    \"Lady\": \"Rare\", \"Jonkheer\": \"Rare\", \"Don\": \"Rare\", \"Dona\": \"Rare\",\n",
    "    \"Capt\": \"Rare\", \"Sir\": \"Rare\"\n",
    "}\n",
    "data[\"Title\"] = data[\"Title\"].map(title_mapping)\n",
    "data[\"Title\"] = data[\"Title\"].fillna(\"Rare\")"
   ]
  },
  {
   "cell_type": "code",
   "execution_count": null,
   "id": "1b680f01",
   "metadata": {},
   "outputs": [],
   "source": [
    "# One-hot encode titles\n",
    "title_dummies = pd.get_dummies(data[\"Title\"], prefix=\"Title\")\n",
    "data = pd.concat([data, title_dummies], axis=1)"
   ]
  },
  {
   "cell_type": "code",
   "execution_count": null,
   "id": "bd1a804f",
   "metadata": {},
   "outputs": [],
   "source": [
    "# Age bins\n",
    "data[\"AgeBin\"] = pd.cut(data[\"Age\"], bins=[0, 12, 20, 40, 60, 80], labels=False)"
   ]
  },
  {
   "cell_type": "markdown",
   "id": "c3e5140d",
   "metadata": {},
   "source": [
    "=== Final Dataset Preparation ==="
   ]
  },
  {
   "cell_type": "code",
   "execution_count": null,
   "id": "68f56dd2",
   "metadata": {},
   "outputs": [],
   "source": [
    "# Drop unused columns\n",
    "drop_cols = [\"PassengerId\", \"Name\", \"Ticket\", \"Title\", \"Age\", \"Fare\"]\n",
    "data.drop(columns=drop_cols, inplace=True)"
   ]
  },
  {
   "cell_type": "code",
   "execution_count": null,
   "id": "9839230d",
   "metadata": {},
   "outputs": [],
   "source": [
    "# Separate back into train and test\n",
    "X_train = data[:len(train)]\n",
    "X_test = data[len(train):]\n",
    "y_train = train[\"Survived\"]"
   ]
  },
  {
   "cell_type": "markdown",
   "id": "7fa56b16",
   "metadata": {},
   "source": [
    "=== Modeling ==="
   ]
  },
  {
   "cell_type": "code",
   "execution_count": null,
   "id": "298dca0f",
   "metadata": {},
   "outputs": [],
   "source": [
    "# Logistic Regression\n",
    "lr = LogisticRegression(max_iter=1000)\n",
    "lr_score = cross_val_score(lr, X_train, y_train, cv=5).mean()\n",
    "print(f\"Logistic Regression CV score: {lr_score:.4f}\")"
   ]
  },
  {
   "cell_type": "code",
   "execution_count": null,
   "id": "b6c98ad1",
   "metadata": {},
   "outputs": [],
   "source": [
    "# Random Forest\n",
    "rf = RandomForestClassifier(n_estimators=100, random_state=42)\n",
    "rf_score = cross_val_score(rf, X_train, y_train, cv=5).mean()\n",
    "print(f\"Random Forest CV score: {rf_score:.4f}\")"
   ]
  },
  {
   "cell_type": "code",
   "execution_count": null,
   "id": "440a7482",
   "metadata": {},
   "outputs": [],
   "source": [
    "# Train final model and predict\n",
    "rf.fit(X_train, y_train)\n",
    "predictions = rf.predict(X_test)"
   ]
  },
  {
   "cell_type": "markdown",
   "id": "0acdda50",
   "metadata": {},
   "source": [
    "=== Submission ==="
   ]
  },
  {
   "cell_type": "code",
   "execution_count": null,
   "id": "2e743f61",
   "metadata": {},
   "outputs": [],
   "source": [
    "submission = pd.DataFrame({\n",
    "    \"PassengerId\": test[\"PassengerId\"],\n",
    "    \"Survived\": predictions\n",
    "})\n",
    "submission.to_csv(\"submission.csv\", index=False)\n",
    "print(\"Submission file saved as 'submission.csv'\")"
   ]
  }
 ],
 "metadata": {
  "jupytext": {
   "cell_metadata_filter": "-all",
   "main_language": "python",
   "notebook_metadata_filter": "-all"
  }
 },
 "nbformat": 4,
 "nbformat_minor": 5
}
